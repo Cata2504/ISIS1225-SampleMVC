{
  "nbformat": 4,
  "nbformat_minor": 0,
  "metadata": {
    "colab": {
      "provenance": [],
      "include_colab_link": true
    },
    "kernelspec": {
      "name": "python3",
      "display_name": "Python 3"
    },
    "language_info": {
      "name": "python"
    }
  },
  "cells": [
    {
      "cell_type": "markdown",
      "metadata": {
        "id": "view-in-github",
        "colab_type": "text"
      },
      "source": [
        "<a href=\"https://colab.research.google.com/github/Cata2504/ISIS1225-SampleMVC/blob/main/Parcial_1_Fraude.ipynb\" target=\"_parent\"><img src=\"https://colab.research.google.com/assets/colab-badge.svg\" alt=\"Open In Colab\"/></a>"
      ]
    },
    {
      "cell_type": "markdown",
      "source": [
        "##Parcial 1\n"
      ],
      "metadata": {
        "id": "Zf9oRU9Qoeur"
      }
    },
    {
      "cell_type": "code",
      "source": [],
      "metadata": {
        "id": "ZywWVp3Nojtm"
      },
      "execution_count": null,
      "outputs": []
    }
  ]
}